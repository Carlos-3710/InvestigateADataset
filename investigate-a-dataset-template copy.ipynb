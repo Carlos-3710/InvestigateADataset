{
 "cells": [
  {
   "cell_type": "markdown",
   "metadata": {},
   "source": [
    "> \n",
    "\n",
    "# Project: Investigate a Dataset (movies data)\n",
    "## Table of Contents\n",
    "<ul>\n",
    "<li><a href=\"#intro\">Introduction</a></li>\n",
    "<li><a href=\"#wrangling\">Data Wrangling</a></li>\n",
    "<li><a href=\"#eda\">Exploratory Data Analysis</a></li>\n",
    "<li><a href=\"#conclusions\">Conclusions</a></li>\n",
    "</ul>"
   ]
  },
  {
   "cell_type": "markdown",
   "metadata": {},
   "source": [
    "# Introduction\n",
    "In this notebook, we will analyze a dataset of movies to uncover interesting insights. Our primary focus will be on understanding the relationship between budget and popularity, as well as identifying the most prolific directors. \n",
    "\n",
    "We aim to answer the following key questions:\n",
    "1. Does an increase in budget lead to a higher popularity for movies?\n",
    "2. Which directors have directed the most films?"
   ]
  },
  {
   "cell_type": "code",
   "execution_count": null,
   "metadata": {
    "collapsed": true
   },
   "outputs": [],
   "source": [
    "# importing statements for all of the packages that you\n",
    "import numpy as np\n",
    "import pandas as pd\n",
    "import matplotlib.pyplot as plt\n",
    "import seaborn as sns"
   ]
  },
  {
   "cell_type": "markdown",
   "metadata": {},
   "source": [
    "#### importing necessary libraries"
   ]
  },
  {
   "cell_type": "markdown",
   "metadata": {},
   "source": [
    "<a id='wrangling'></a>\n",
    "# Data Wrangling\n",
    "\n",
    "### General Properties"
   ]
  },
  {
   "cell_type": "code",
   "execution_count": null,
   "metadata": {
    "collapsed": true
   },
   "outputs": [],
   "source": [
    "df = pd .read_csv(\"tmdb-movies.csv\")"
   ]
  },
  {
   "cell_type": "markdown",
   "metadata": {},
   "source": [
    "### reading data frome a csv into a dataframe"
   ]
  },
  {
   "cell_type": "code",
   "execution_count": null,
   "metadata": {},
   "outputs": [],
   "source": [
    "df.head()"
   ]
  },
  {
   "cell_type": "markdown",
   "metadata": {},
   "source": [
    "### displaying the first five rows of the data"
   ]
  },
  {
   "cell_type": "code",
   "execution_count": null,
   "metadata": {},
   "outputs": [],
   "source": [
    "df.info()"
   ]
  },
  {
   "cell_type": "markdown",
   "metadata": {},
   "source": [
    "### showing dataframe info (data typs , non null counts)"
   ]
  },
  {
   "cell_type": "code",
   "execution_count": null,
   "metadata": {},
   "outputs": [],
   "source": [
    "df.shape"
   ]
  },
  {
   "cell_type": "markdown",
   "metadata": {},
   "source": [
    "### getting the number of rows and columns in the data"
   ]
  },
  {
   "cell_type": "code",
   "execution_count": null,
   "metadata": {},
   "outputs": [],
   "source": [
    "df.describe()"
   ]
  },
  {
   "cell_type": "markdown",
   "metadata": {},
   "source": [
    "### showing count , mean min , max , std , and other satats for numeric columns"
   ]
  },
  {
   "cell_type": "code",
   "execution_count": null,
   "metadata": {},
   "outputs": [],
   "source": [
    "df.duplicated().sum()"
   ]
  },
  {
   "cell_type": "markdown",
   "metadata": {},
   "source": [
    "### counting the number of duplicate"
   ]
  },
  {
   "cell_type": "markdown",
   "metadata": {},
   "source": [
    ">\n",
    "\n",
    "# Data Cleaning "
   ]
  },
  {
   "cell_type": "code",
   "execution_count": null,
   "metadata": {
    "collapsed": true
   },
   "outputs": [],
   "source": [
    "df.drop([\"homepage\",\"production_companies\",\"keywords\", \"tagline\" ,\"cast\" ,\"overview\" ,\"imdb_id\"], axis = 1 , inplace = True)"
   ]
  },
  {
   "cell_type": "markdown",
   "metadata": {},
   "source": [
    "###  Removing unnecessary columns from the DataFrame to clean the data"
   ]
  },
  {
   "cell_type": "code",
   "execution_count": null,
   "metadata": {},
   "outputs": [],
   "source": [
    "df = df.dropna(subset=[\"director\",\"genres\"])"
   ]
  },
  {
   "cell_type": "markdown",
   "metadata": {},
   "source": [
    "### Removing rows where the \"director\" or \"genres\" columns have missing values"
   ]
  },
  {
   "cell_type": "code",
   "execution_count": null,
   "metadata": {},
   "outputs": [],
   "source": [
    "df['release_date'] = pd.to_datetime(df['release_date'])"
   ]
  },
  {
   "cell_type": "markdown",
   "metadata": {},
   "source": [
    "### Converting the 'release_date' column to datetime format  "
   ]
  },
  {
   "cell_type": "code",
   "execution_count": null,
   "metadata": {},
   "outputs": [],
   "source": [
    "df = df.drop_duplicates()"
   ]
  },
  {
   "cell_type": "markdown",
   "metadata": {},
   "source": [
    "### Removing duplicate rows from the DataFrame"
   ]
  },
  {
   "cell_type": "code",
   "execution_count": null,
   "metadata": {},
   "outputs": [],
   "source": [
    "df.replace(0, np.nan, inplace=True) \n",
    "df.fillna(df.select_dtypes(include=[\"number\"]).mean(), inplace=True)"
   ]
  },
  {
   "cell_type": "markdown",
   "metadata": {},
   "source": []
  },
  {
   "cell_type": "markdown",
   "metadata": {},
   "source": [
    "# Exploratory Data Analysis"
   ]
  },
  {
   "cell_type": "code",
   "execution_count": null,
   "metadata": {},
   "outputs": [],
   "source": [
    "def plot_correlation(df, x_col, y_col, plot_type , title , xlabel , ylabel, hmv) :\n",
    "    plt.figure(figsize=(8, 6))\n",
    "    if plot_type == \"scatter\":\n",
    "        log_y_col = np.log1p(df[y_col])\n",
    "        sns.scatterplot(x=df[x_col], y=log_y_col, alpha=0.7)\n",
    "        sns.regplot(x= df[x_col], y=log_y_col, data=df, scatter=False, color='red')\n",
    "        plt.xlabel(x_col, fontsize=12)\n",
    "        plt.ylabel(y_col, fontsize=12) \n",
    "    elif plot_type == \"barplot\" :\n",
    "        sns.barplot(x = x_col.values, y=y_col.index, palette=\"viridis\")\n",
    "        plt.title(title, fontsize=14)\n",
    "        plt.xlabel( xlabel, fontsize=12)\n",
    "        plt.ylabel( ylabel, fontsize=12)\n",
    "    elif plot_type == \"heatmap\" :\n",
    "        sns.heatmap(hmv.corr(), annot=True, cmap=\"Blues\", fmt =\".2f\", linewidths=0.5)\n",
    "        plt.title(title)   \n",
    "    else:\n",
    "        print(\"error\")\n",
    "    plt.show()\n"
   ]
  },
  {
   "cell_type": "markdown",
   "metadata": {},
   "source": [
    "# 📊 Plot Correlation Function  \n",
    "\n",
    "This function `plot_correlation()` is designed to **visualize relationships between variables** in a dataset using different types of plots:  \n",
    "- **Scatter Plot** (with regression line)  \n",
    "- **Bar Plot**  \n",
    "- **Heatmap**  \n",
    "\n",
    "## 📌 Parameters:  \n",
    "- `df` → The DataFrame containing the data.  \n",
    "- `x_col` → The column name for the x-axis.  \n",
    "- `y_col` → The column name for the y-axis.  \n",
    "- `plot_type` → The type of plot (`\"scatter\"`, `\"barplot\"`, or `\"heatmap\"`).  \n",
    "- `title` → Title of the plot.  \n",
    "- `xlabel` → Label for the x-axis.  \n",
    "- `ylabel` → Label for the y-axis.  \n",
    "- `hmv` → DataFrame for heatmap correlation."
   ]
  },
  {
   "cell_type": "markdown",
   "metadata": {},
   "source": [
    "### Research Question 1  (When the budget increases, the film's popularity increases as well ?)"
   ]
  },
  {
   "cell_type": "code",
   "execution_count": null,
   "metadata": {},
   "outputs": [],
   "source": [
    "plot_correlation(df, 'popularity', 'budget', \"scatter\" , \"correlation between popularity and budget\" , \"popularity\" , \"budget\" ,\"\")"
   ]
  },
  {
   "cell_type": "markdown",
   "metadata": {},
   "source": [
    "# 📊 Correlation Between Popularity and Budget  \n",
    "\n",
    "This visualization explores the **relationship between movie popularity and budget** using a scatter plot with a regression line.  \n",
    "\n",
    "## 📌 Steps:  \n",
    "1. **Apply log transformation** to both `popularity` and `budget` to normalize the data.  \n",
    "2. **Create a scatter plot** to visualize the data distribution.  \n",
    "3. **Overlay a regression line** to highlight the trend.  \n",
    "4. **Add labels and a title** for better readability. "
   ]
  },
  {
   "cell_type": "markdown",
   "metadata": {},
   "source": [
    "## Research Question 2  (Who are the directors who have directed the most films?)"
   ]
  },
  {
   "cell_type": "code",
   "execution_count": null,
   "metadata": {
    "collapsed": true
   },
   "outputs": [],
   "source": [
    "top_directors = df[\"director\"].value_counts().head(10) \n",
    "plot_correlation(df, top_directors , top_directors , \"barplot\" , \"Top Contributing Directors in Movies\" , \"directors\" , \"number of movies\" , \"\")"
   ]
  },
  {
   "cell_type": "markdown",
   "metadata": {},
   "source": [
    "# 🎬 Top Contributing Directors in Movies  \n",
    "\n",
    "In this analysis, we will extract the **top 10 directors** with the highest number of movies in the dataset and visualize the data using a bar chart.  \n",
    "\n",
    "### 📌 Steps:  \n",
    "1. **Count the number of movies per director** using `value_counts()`.  \n",
    "2. **Select the top 10 directors** based on the number of movies.  \n",
    "3. **Create a horizontal bar chart** using **Seaborn**.  \n",
    "4. **Add labels and titles** to improve readability. "
   ]
  },
  {
   "cell_type": "code",
   "execution_count": null,
   "metadata": {},
   "outputs": [],
   "source": [
    "data_numeric = df.select_dtypes(include=[\"number\"])\n",
    "plot_correlation(df,\"\",\"\",\"heatmap\",\"correlation heatmap\",\"\",\"\",data_numeric)"
   ]
  },
  {
   "cell_type": "markdown",
   "metadata": {},
   "source": [
    "# 🔥 Correlation Heatmap of Numeric Data  \n",
    "\n",
    "In this analysis, we generate a **heatmap** to visualize the correlation between numerical variables in the dataset.  \n",
    "\n",
    "## 📌 Steps:  \n",
    "1. **Select numeric columns** using `select_dtypes(include=[\"number\"])`.  \n",
    "2. **Calculate correlations** between these numerical features.  \n",
    "3. **Visualize the correlation matrix** using a **Seaborn heatmap**.  \n",
    "4. **Customize the heatmap** with annotations, colors, and formatting for better readability.  "
   ]
  },
  {
   "cell_type": "markdown",
   "metadata": {},
   "source": [
    "<a id='conclusions'></a>\n",
    "#  Conclusions\n",
    "\n",
    "From our analysis, we found a slight correlation between budget and popularity, indicating that as the budget increases, the popularity tends to increase as well. Additionally, we identified the top 10 directors who have contributed the most films. The heatmap visualization helped us understand various correlations, such as the relationship between vote count and revenue.\n",
    "\n",
    "# Limitations:\n",
    "\n",
    "Limitations:\n",
    "\n",
    "1- Limited Time: The analysis was conducted in a short time frame, restricting deeper exploration.\n",
    "\n",
    "2- Data Loss: A significant amount of data was removed after cleaning.\n",
    "\n",
    "3- Missing Values: The dataset contained a large number of missing values, which impacted the overall analysis.\n",
    "\n"
   ]
  }
 ],
 "metadata": {
  "kernelspec": {
   "display_name": "base",
   "language": "python",
   "name": "python3"
  },
  "language_info": {
   "codemirror_mode": {
    "name": "ipython",
    "version": 3
   },
   "file_extension": ".py",
   "mimetype": "text/x-python",
   "name": "python",
   "nbconvert_exporter": "python",
   "pygments_lexer": "ipython3",
   "version": "3.12.7"
  }
 },
 "nbformat": 4,
 "nbformat_minor": 2
}
